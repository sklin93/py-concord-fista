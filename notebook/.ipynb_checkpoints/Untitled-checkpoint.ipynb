{
 "cells": [
  {
   "cell_type": "code",
   "execution_count": 1,
   "metadata": {},
   "outputs": [],
   "source": [
    "import numpy as np\n",
    "import matplotlib.pyplot as plot"
   ]
  },
  {
   "cell_type": "code",
   "execution_count": 5,
   "metadata": {},
   "outputs": [],
   "source": [
    "p = 50\n",
    "q = 50\n",
    "success_prob_s1 = 0.5"
   ]
  },
  {
   "cell_type": "code",
   "execution_count": 6,
   "metadata": {},
   "outputs": [],
   "source": [
    "W = np.random.normal(0, 1, (p, p))\n",
    "K = np.random.binomial(n=1, p=success_prob_s1, size=(p, p))"
   ]
  },
  {
   "cell_type": "code",
   "execution_count": 9,
   "metadata": {},
   "outputs": [
    {
     "data": {
      "text/plain": [
       "array([[ 0.        , -0.20678905, -1.57824947, ...,  0.32486373,\n",
       "         0.51131052,  0.        ],\n",
       "       [-0.        ,  0.        ,  0.        , ...,  0.3315177 ,\n",
       "        -0.17942912,  0.        ],\n",
       "       [-0.83494183, -1.09767112,  0.75507878, ...,  0.        ,\n",
       "         0.51098857,  1.68048621],\n",
       "       ...,\n",
       "       [-0.        , -2.08770848, -0.        , ..., -0.05208038,\n",
       "         0.20380617,  0.6047657 ],\n",
       "       [ 0.40083729, -2.06363139, -0.33993288, ...,  1.63782439,\n",
       "         0.        ,  0.        ],\n",
       "       [ 0.        , -0.        ,  0.        , ...,  0.        ,\n",
       "         0.66869163,  0.38843557]])"
      ]
     },
     "execution_count": 9,
     "metadata": {},
     "output_type": "execute_result"
    }
   ],
   "source": [
    "plot.matshow"
   ]
  },
  {
   "cell_type": "code",
   "execution_count": null,
   "metadata": {},
   "outputs": [],
   "source": [
    "Q_idx = np.random.binomial(n=1, p=success_prob_s2, size=p)\n",
    "Q = np.zeros((p, q))\n",
    "Q[np.nonzero(Q_idx)[0],:] = 1\n",
    "self.B = np.matmul(W, np.matmul(K, Q))\n",
    "print('nonzero B-entry count: ', np.count_nonzero(B))"
   ]
  }
 ],
 "metadata": {
  "kernelspec": {
   "display_name": "Python 3",
   "language": "python",
   "name": "python3"
  },
  "language_info": {
   "codemirror_mode": {
    "name": "ipython",
    "version": 3
   },
   "file_extension": ".py",
   "mimetype": "text/x-python",
   "name": "python",
   "nbconvert_exporter": "python",
   "pygments_lexer": "ipython3",
   "version": "3.6.9"
  }
 },
 "nbformat": 4,
 "nbformat_minor": 2
}
