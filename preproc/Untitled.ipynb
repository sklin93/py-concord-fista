{
 "cells": [
  {
   "cell_type": "code",
   "execution_count": 28,
   "metadata": {},
   "outputs": [],
   "source": [
    "import numpy as np\n",
    "import sys, glob, os\n",
    "\n",
    "dir_ts      = \"/home/hyou/localrepo/glasso/fs125/992774/timeseries/tfMRI_LANGUAGE_125mm_LR/Lausanne2008/ROIv_scale33\" \n",
    "output_file = \"test_mean.ts\"\n",
    "\n",
    "# For each ROI, returns a row of voxelwise averaged timeseries.\n",
    "# All zero reads will be removed.\n",
    "\n",
    "# load the first timeseries file to extract dimension information\n",
    "ts_raw      = np.loadtxt(open(dir_ts+'/1.txt', \"rb\"), delimiter=\" \")\n",
    "ts_list     = os.listdir(dir_ts)\n",
    "num_frame   = ts_raw.shape[1] - 6 # remove coordinate prefix\n",
    "num_roi     = len(ts_list)\n",
    "\n",
    "ts_mean = np.empty([num_roi, num_frame])\n",
    "for i in range(num_roi):\n",
    "    ts_raw     = np.loadtxt(open(dir_ts+'/'+str(i+1)+'.txt', \"rb\"), delimiter=\" \")\n",
    "    nzn_voxel  = np.nonzero(np.sum(ts_raw[:,6:], axis=1))\n",
    "    ts_mean[i] = np.mean(ts_raw[nzn_voxel[0],6:], axis=0) \n",
    "\n",
    "np.savetxt(output_file, ts_mean, delimiter=\" \") \n"
   ]
  },
  {
   "cell_type": "code",
   "execution_count": 31,
   "metadata": {},
   "outputs": [],
   "source": [
    "import numpy as np\n",
    "import sys, os\n",
    "\n",
    "# Compute the correlation matrix given ROI-level timeseries.\n",
    "# ROI-level timeseries are given via \"ts_file\" under the directory \"dir_ts\".\n",
    "\n",
    "dir_ts       = \"/home/hyou/localrepo/glasso/fs125/992774/timeseries/tfMRI_LANGUAGE_125mm_LR/Lausanne2008/ROIv_scale33\" \n",
    "ts_file      = \"test_mean.ts.python\"\n",
    "corrmat_file = \"corr_mat.fc\"\n",
    "\n",
    "# load the first timeseries file to extract dimension information\n",
    "ts = np.loadtxt(open(dir_ts+'/'+ts_file, \"rb\"), delimiter=\" \")\n",
    "num_roi, num_frame = ts.shape\n"
   ]
  },
  {
   "cell_type": "code",
   "execution_count": 27,
   "metadata": {},
   "outputs": [
    {
     "ename": "NameError",
     "evalue": "name 'num2str' is not defined",
     "output_type": "error",
     "traceback": [
      "\u001b[0;31m---------------------------------------------------------------------------\u001b[0m",
      "\u001b[0;31mNameError\u001b[0m                                 Traceback (most recent call last)",
      "\u001b[0;32m<ipython-input-27-d5aae48c0aec>\u001b[0m in \u001b[0;36m<module>\u001b[0;34m()\u001b[0m\n\u001b[0;32m----> 1\u001b[0;31m \u001b[0mnum2str\u001b[0m\u001b[0;34m(\u001b[0m\u001b[0;36m10\u001b[0m\u001b[0;34m)\u001b[0m\u001b[0;34m\u001b[0m\u001b[0m\n\u001b[0m",
      "\u001b[0;31mNameError\u001b[0m: name 'num2str' is not defined"
     ]
    }
   ],
   "source": [
    "corr_mat = np.eye(num_roi)\n",
    "for i in range(0,num_roi-1):\n",
    "    for j in range(i+1, num_roi):\n",
    "        corr_mat[i,j] = np.corrcoef(ts[i,:], ts[j,:])\n",
    "        corr_mat[j,i] = corr_mat[i,j]\n",
    "\n",
    "np.savetxt(dir_ts+'/'+corrmat_file, corr_mat, delimiter=\" \", fmt='%0.5f') "
   ]
  },
  {
   "cell_type": "code",
   "execution_count": 32,
   "metadata": {},
   "outputs": [
    {
     "data": {
      "text/plain": [
       "array([8235.329, 8245.17 , 8177.251, 8170.545, 8162.365, 8132.522,\n",
       "       8147.424, 8144.58 , 8148.63 , 8151.292, 8139.702, 8109.62 ,\n",
       "       8116.158, 8128.913, 8139.403, 8131.3  , 8140.378, 8120.112,\n",
       "       8077.321, 8147.601, 8086.585, 8109.294, 8120.637, 8087.876,\n",
       "       8049.756, 8130.043, 8154.749, 8167.728, 8108.518, 8146.255,\n",
       "       8131.581, 8098.372, 8051.138, 8065.741, 8104.231, 8181.331,\n",
       "       8135.066, 8142.945, 8156.56 , 8099.15 , 8135.402, 8110.043,\n",
       "       8136.285, 8160.087, 8158.72 , 8140.534, 8057.732, 8107.07 ,\n",
       "       8150.118, 8150.204, 8140.854, 8087.102, 8078.9  , 8135.63 ,\n",
       "       8106.338, 8099.836, 8141.104, 8086.555, 8084.316, 8026.315,\n",
       "       8081.966, 8229.767, 8163.152, 8180.016, 8160.9  , 8175.945,\n",
       "       8142.593, 8237.886, 8133.862, 8174.073, 8160.111, 8161.756,\n",
       "       8171.763, 8137.529, 8111.987, 8145.857, 8026.211, 8156.225,\n",
       "       8132.589, 8100.176, 8154.694, 8146.12 , 8154.303, 8142.608,\n",
       "       8101.531, 8112.055, 8144.728, 8113.922, 8088.745, 8123.127,\n",
       "       8156.217, 8092.504, 8088.23 , 8145.446, 8175.439, 8159.801,\n",
       "       8079.751, 8038.461, 8044.018, 8095.321, 8044.897, 8140.633,\n",
       "       8121.359, 8083.333, 8118.607, 8070.286, 8141.356, 8078.889,\n",
       "       8097.48 , 8041.509, 8064.345, 8098.988, 8112.854, 8053.695,\n",
       "       8076.129, 8147.967, 8077.615, 8053.653, 8094.151, 8101.426,\n",
       "       8197.766, 8197.058, 8107.307, 8121.426, 8103.199, 8172.686,\n",
       "       8071.974, 8148.629, 8141.712, 8177.057, 8086.674, 8080.033,\n",
       "       8087.7  , 8162.038, 8103.09 , 8133.923, 8124.479, 8109.308,\n",
       "       8104.922, 8089.109, 8116.01 , 8100.517, 8071.461, 8069.909,\n",
       "       8074.021, 8053.874, 8045.206, 8118.234, 8064.168, 8078.187,\n",
       "       8064.915, 8083.357, 8098.134, 8079.202, 8148.246, 8104.52 ,\n",
       "       8006.756, 8073.196, 8117.778, 8079.854, 8132.614, 8069.75 ,\n",
       "       8030.57 , 8048.844, 8080.416, 8011.165, 8005.947, 7995.107,\n",
       "       7993.882, 7930.823, 8027.255, 8004.373, 8018.113, 8052.554,\n",
       "       8075.43 , 8060.825, 8016.332, 7994.73 , 8010.76 , 8051.059,\n",
       "       8039.205, 7993.786, 8036.896, 8088.864, 8083.99 , 8034.782,\n",
       "       8029.642, 8030.718, 8117.493, 8106.217, 8043.98 , 8087.908,\n",
       "       8114.95 , 8097.808, 8066.335, 8060.165, 8127.586, 8092.02 ,\n",
       "       8135.832, 8083.474, 8040.318, 8109.952, 8035.392, 8091.2  ,\n",
       "       8077.527, 8053.922, 8038.842, 8077.102, 8039.651, 8060.614,\n",
       "       8050.177, 8102.314, 8063.614, 8064.633, 8053.485, 8065.676,\n",
       "       8100.247, 8095.671, 8107.378, 8027.034, 7981.931, 8022.433,\n",
       "       8061.795, 8063.743, 8086.258, 8026.651, 8022.459, 8037.865,\n",
       "       8050.046, 8050.434, 8032.54 , 8051.868, 8070.545, 8048.696,\n",
       "       8054.278, 8109.364, 8045.781, 8043.951, 8057.166, 8064.649,\n",
       "       8008.113, 8048.665, 8045.243, 8063.165, 8025.86 , 8116.4  ,\n",
       "       8083.254, 8015.171, 8020.353, 8084.294, 8090.392, 8104.512,\n",
       "       8091.545, 8083.767, 8047.959, 8035.308, 8061.775, 8088.765,\n",
       "       8080.757, 8093.662, 8082.101, 8070.892, 8075.833, 8088.688,\n",
       "       8145.896, 8069.834, 8106.768, 8090.197, 8028.48 , 8061.027,\n",
       "       8097.904, 8077.054, 8033.915, 8047.413, 8095.904, 8011.764,\n",
       "       8077.751, 8077.552, 8112.548, 8017.615, 8055.331, 8045.996,\n",
       "       8060.488, 8046.642, 8063.138, 8036.887, 8006.918, 7986.474,\n",
       "       8033.93 , 8029.827, 8083.04 , 8054.236, 7983.746, 8022.77 ,\n",
       "       8017.746, 8039.366, 8060.602, 8078.108, 8041.868, 8003.028,\n",
       "       8083.215, 8048.276, 8021.352, 8065.377, 8116.308, 8123.126,\n",
       "       8085.759, 8099.054, 8085.675, 8139.597, 8099.579, 8101.67 ,\n",
       "       8094.15 , 8090.22 , 8123.13 , 8129.489])"
      ]
     },
     "execution_count": 32,
     "metadata": {},
     "output_type": "execute_result"
    }
   ],
   "source": [
    "ts[i,:]"
   ]
  },
  {
   "cell_type": "code",
   "execution_count": 20,
   "metadata": {},
   "outputs": [
    {
     "data": {
      "text/plain": [
       "(1299, 322)"
      ]
     },
     "execution_count": 20,
     "metadata": {},
     "output_type": "execute_result"
    }
   ],
   "source": [
    "ts_raw.shape"
   ]
  },
  {
   "cell_type": "code",
   "execution_count": 22,
   "metadata": {},
   "outputs": [
    {
     "data": {
      "text/plain": [
       "array([   0,    1,    2, ..., 1296, 1297, 1298])"
      ]
     },
     "execution_count": 22,
     "metadata": {},
     "output_type": "execute_result"
    }
   ],
   "source": [
    "nzn_voxel[0]"
   ]
  },
  {
   "cell_type": "code",
   "execution_count": null,
   "metadata": {},
   "outputs": [],
   "source": []
  }
 ],
 "metadata": {
  "kernelspec": {
   "display_name": "Python 3",
   "language": "python",
   "name": "python3"
  },
  "language_info": {
   "codemirror_mode": {
    "name": "ipython",
    "version": 3
   },
   "file_extension": ".py",
   "mimetype": "text/x-python",
   "name": "python",
   "nbconvert_exporter": "python",
   "pygments_lexer": "ipython3",
   "version": "3.7.0"
  }
 },
 "nbformat": 4,
 "nbformat_minor": 2
}
