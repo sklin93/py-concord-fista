{
 "cells": [
  {
   "cell_type": "code",
   "execution_count": 28,
   "metadata": {},
   "outputs": [],
   "source": [
    "import numpy as np\n",
    "import sys, glob, os\n",
    "\n",
    "dir_ts      = \"/home/hyou/localrepo/glasso/fs125/992774/timeseries/tfMRI_LANGUAGE_125mm_LR/Lausanne2008/ROIv_scale33\" \n",
    "output_file = \"test_mean.ts\"\n",
    "\n",
    "# For each ROI, returns a row of voxelwise averaged timeseries.\n",
    "# All zero reads will be removed.\n",
    "\n",
    "# load the first timeseries file to extract dimension information\n",
    "ts_raw      = np.loadtxt(open(dir_ts+'/1.txt', \"rb\"), delimiter=\" \")\n",
    "ts_list     = os.listdir(dir_ts)\n",
    "num_frame   = ts_raw.shape[1] - 6 # remove coordinate prefix\n",
    "num_roi     = len(ts_list)\n",
    "\n",
    "ts_mean = np.empty([num_roi, num_frame])\n",
    "for i in range(num_roi):\n",
    "    ts_raw     = np.loadtxt(open(dir_ts+'/'+str(i+1)+'.txt', \"rb\"), delimiter=\" \")\n",
    "    nzn_voxel  = np.nonzero(np.sum(ts_raw[:,6:], axis=1))\n",
    "    ts_mean[i] = np.mean(ts_raw[nzn_voxel[0],6:], axis=0) \n",
    "\n",
    "np.savetxt(output_file, ts_mean, delimiter=\" \") \n"
   ]
  },
  {
   "cell_type": "code",
   "execution_count": 29,
   "metadata": {},
   "outputs": [
    {
     "data": {
      "text/plain": [
       "'test_mean.ts'"
      ]
     },
     "execution_count": 29,
     "metadata": {},
     "output_type": "execute_result"
    }
   ],
   "source": [
    "output_file"
   ]
  },
  {
   "cell_type": "code",
   "execution_count": 27,
   "metadata": {},
   "outputs": [
    {
     "ename": "NameError",
     "evalue": "name 'num2str' is not defined",
     "output_type": "error",
     "traceback": [
      "\u001b[0;31m---------------------------------------------------------------------------\u001b[0m",
      "\u001b[0;31mNameError\u001b[0m                                 Traceback (most recent call last)",
      "\u001b[0;32m<ipython-input-27-d5aae48c0aec>\u001b[0m in \u001b[0;36m<module>\u001b[0;34m()\u001b[0m\n\u001b[0;32m----> 1\u001b[0;31m \u001b[0mnum2str\u001b[0m\u001b[0;34m(\u001b[0m\u001b[0;36m10\u001b[0m\u001b[0;34m)\u001b[0m\u001b[0;34m\u001b[0m\u001b[0m\n\u001b[0m",
      "\u001b[0;31mNameError\u001b[0m: name 'num2str' is not defined"
     ]
    }
   ],
   "source": [
    "num2str(10)"
   ]
  },
  {
   "cell_type": "code",
   "execution_count": 19,
   "metadata": {},
   "outputs": [
    {
     "data": {
      "text/plain": [
       "(1, 1205, 316)"
      ]
     },
     "execution_count": 19,
     "metadata": {},
     "output_type": "execute_result"
    }
   ],
   "source": [
    "ts_raw[nzn_voxel,6:].shape"
   ]
  },
  {
   "cell_type": "code",
   "execution_count": 20,
   "metadata": {},
   "outputs": [
    {
     "data": {
      "text/plain": [
       "(1299, 322)"
      ]
     },
     "execution_count": 20,
     "metadata": {},
     "output_type": "execute_result"
    }
   ],
   "source": [
    "ts_raw.shape"
   ]
  },
  {
   "cell_type": "code",
   "execution_count": 22,
   "metadata": {},
   "outputs": [
    {
     "data": {
      "text/plain": [
       "array([   0,    1,    2, ..., 1296, 1297, 1298])"
      ]
     },
     "execution_count": 22,
     "metadata": {},
     "output_type": "execute_result"
    }
   ],
   "source": [
    "nzn_voxel[0]"
   ]
  },
  {
   "cell_type": "code",
   "execution_count": null,
   "metadata": {},
   "outputs": [],
   "source": []
  }
 ],
 "metadata": {
  "kernelspec": {
   "display_name": "Python 3",
   "language": "python",
   "name": "python3"
  },
  "language_info": {
   "codemirror_mode": {
    "name": "ipython",
    "version": 3
   },
   "file_extension": ".py",
   "mimetype": "text/x-python",
   "name": "python",
   "nbconvert_exporter": "python",
   "pygments_lexer": "ipython3",
   "version": "3.7.0"
  }
 },
 "nbformat": 4,
 "nbformat_minor": 2
}
