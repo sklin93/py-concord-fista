{
 "cells": [
  {
   "cell_type": "code",
   "execution_count": null,
   "metadata": {},
   "outputs": [],
   "source": [
    "import numpy as np\n",
    "import sys, glob, os\n",
    "\n",
    "dir_ts      = \"/home/hyou/localrepo/glasso/fs125/992774/timeseries/tfMRI_LANGUAGE_125mm_LR/Lausanne2008/ROIv_scale33\" \n",
    "output_file = \"test_mean.ts\"\n",
    "\n",
    "# load the first timeseries file to extract dimension information\n",
    "ts_raw      = np.loadtxt(open(dir_ts+'/1.txt', \"rb\"), delimiter=\" \")\n",
    "ts_list     = os.listdir(dir_ts)\n",
    "num_frame   = ts_raw.shape[1] - 6 # remove coordinate prefix\n",
    "num_roi     = len(ts_list)\n",
    "\n",
    "ts_mean = np.empty([num_roi, num_frame])\n",
    "for i,file_path in enumerate(ts_list):\n",
    "    ts_raw      = np.loadtxt(open(dir_ts+'/'+file_path, \"rb\"), delimiter=\" \")\n",
    "    ts_raw      = ts_raw[:,6:]\n",
    "    ts_mean[i]  = ts_raw[np.nonzero(np.mean(ts_raw, axis=1)),:]\n",
    "\n",
    "np.savetxt(output_file, ts_mean, delimiter=\" \") \n"
   ]
  }
 ],
 "metadata": {
  "kernelspec": {
   "display_name": "Python 3",
   "language": "python",
   "name": "python3"
  },
  "language_info": {
   "codemirror_mode": {
    "name": "ipython",
    "version": 3
   },
   "file_extension": ".py",
   "mimetype": "text/x-python",
   "name": "python",
   "nbconvert_exporter": "python",
   "pygments_lexer": "ipython3",
   "version": "3.7.0"
  }
 },
 "nbformat": 4,
 "nbformat_minor": 2
}
